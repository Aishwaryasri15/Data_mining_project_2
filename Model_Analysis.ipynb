{
  "nbformat": 4,
  "nbformat_minor": 0,
  "metadata": {
    "colab": {
      "provenance": []
    },
    "kernelspec": {
      "name": "python3",
      "display_name": "Python 3"
    },
    "language_info": {
      "name": "python"
    }
  },
  "cells": [
    {
      "cell_type": "code",
      "source": [
        "! pip install glmnet_py\n"
      ],
      "metadata": {
        "colab": {
          "base_uri": "https://localhost:8080/"
        },
        "id": "skZaTRFhVJLd",
        "outputId": "9a4349fb-f8ae-4706-debe-3cb976582afa"
      },
      "execution_count": null,
      "outputs": [
        {
          "output_type": "stream",
          "name": "stdout",
          "text": [
            "Looking in indexes: https://pypi.org/simple, https://us-python.pkg.dev/colab-wheels/public/simple/\n",
            "Requirement already satisfied: glmnet_py in /usr/local/lib/python3.7/dist-packages (0.1.0b2)\n",
            "Requirement already satisfied: joblib>=0.10.3 in /usr/local/lib/python3.7/dist-packages (from glmnet_py) (1.2.0)\n"
          ]
        }
      ]
    },
    {
      "cell_type": "code",
      "source": [
        "! sudo apt-get install libgfortran3"
      ],
      "metadata": {
        "colab": {
          "base_uri": "https://localhost:8080/"
        },
        "id": "7fXA_FmNWP4n",
        "outputId": "c6810195-4b47-4e19-b56f-69edc3549215"
      },
      "execution_count": null,
      "outputs": [
        {
          "output_type": "stream",
          "name": "stdout",
          "text": [
            "Reading package lists... Done\n",
            "Building dependency tree       \n",
            "Reading state information... Done\n",
            "libgfortran3 is already the newest version (6.5.0-2ubuntu1~18.04).\n",
            "The following package was automatically installed and is no longer required:\n",
            "  libnvidia-common-460\n",
            "Use 'sudo apt autoremove' to remove it.\n",
            "0 upgraded, 0 newly installed, 0 to remove and 5 not upgraded.\n"
          ]
        }
      ]
    },
    {
      "cell_type": "code",
      "source": [
        "import os\n",
        "import argparse\n",
        "import time\n",
        "import random\n",
        "import sys\n",
        "\n",
        "import sklearn\n",
        "import numpy as np\n",
        "import pandas as pd\n",
        "from sklearn.linear_model import LinearRegression\n",
        "from sklearn.linear_model import Ridge\n",
        "from sklearn.linear_model import Lasso\n",
        "from sklearn.linear_model import ElasticNet\n",
        "from sklearn.neighbors import KNeighborsRegressor\n",
        "from sklearn.tree import DecisionTreeRegressor\n",
        "from sklearn.svm import SVR\n",
        "from sklearn.ensemble import RandomForestRegressor\n",
        "from sklearn.metrics import r2_score\n",
        "from sklearn.model_selection import train_test_split\n",
        "from sklearn.metrics import mean_squared_error\n",
        "from math import sqrt\n",
        "import matplotlib.pyplot as plt\n",
        "from PIL import Image\n",
        "from sklearn.metrics import r2_score,mean_squared_error as MSE\n"
      ],
      "metadata": {
        "id": "C-jRn9EIVIQH"
      },
      "execution_count": null,
      "outputs": []
    },
    {
      "cell_type": "code",
      "source": [
        "import scipy, importlib, pprint, matplotlib.pyplot as plt, warnings\n",
        "from glmnet import glmnet; from glmnetPlot import glmnetPlot\n",
        "from glmnetPrint import glmnetPrint; from glmnetCoef import glmnetCoef; from glmnetPredict import glmnetPredict\n",
        "from cvglmnet import cvglmnet; from cvglmnetCoef import cvglmnetCoef\n",
        "from cvglmnetPlot import cvglmnetPlot; from cvglmnetPredict import cvglmnetPredict"
      ],
      "metadata": {
        "id": "QJW7jYiBMaTm"
      },
      "execution_count": null,
      "outputs": []
    },
    {
      "cell_type": "markdown",
      "source": [
        "## Glmnet Vignette"
      ],
      "metadata": {
        "id": "NAX3VgzbsE6T"
      }
    },
    {
      "cell_type": "code",
      "execution_count": null,
      "metadata": {
        "colab": {
          "base_uri": "https://localhost:8080/"
        },
        "id": "sDf0LCe1UzXR",
        "outputId": "7230ea63-266b-42bd-aad1-649463caad62"
      },
      "outputs": [
        {
          "output_type": "stream",
          "name": "stdout",
          "text": [
            "Geno_Code\n",
            "    m1   m2   m3   m4   m5   m6   m7   m8   m9  m10  ...  m7380  m7381  m7382  \\\n",
            "0  1.0  1.0  1.0  1.0  1.0  1.0  1.0  1.0  1.0  1.0  ...    0.0    0.0    0.0   \n",
            "1  2.0  2.0  2.0  2.0  2.0  2.0  2.0  2.0  2.0  2.0  ...    2.0    2.0    2.0   \n",
            "2  0.0  0.0  0.0  0.0  0.0  0.0  0.0  0.0  0.0  0.0  ...    0.0    0.0    0.0   \n",
            "3  0.0  0.0  0.0  0.0  0.0  0.0  0.0  0.0  0.0  0.0  ...    2.0    2.0    2.0   \n",
            "4  2.0  2.0  2.0  2.0  2.0  2.0  2.0  2.0  2.0  2.0  ...    0.0    0.0    0.0   \n",
            "\n",
            "   m7383  m7384  m7385  m7386  m7387  m7388  m7389  \n",
            "0    0.0    0.0    0.0    0.0    0.0    0.0    0.0  \n",
            "1    2.0    2.0    2.0    2.0    2.0    2.0    2.0  \n",
            "2    0.0    0.0    0.0    0.0    0.0    0.0    0.0  \n",
            "3    2.0    2.0    2.0    2.0    2.0    2.0    2.0  \n",
            "4    0.0    0.0    0.0    0.0    0.0    0.0    0.0  \n",
            "\n",
            "[5 rows x 7389 columns]\n",
            "      DtoA\n",
            "0  75.5364\n",
            "1  76.9075\n",
            "2  75.2646\n",
            "3  73.6933\n",
            "4  79.2441\n",
            "(4494, 7389)\n",
            "(4494, 1)\n"
          ]
        }
      ],
      "source": [
        "df_v3 = pd.read_csv(\"data_df_v2.csv\")\n",
        "\n",
        "# %%\n",
        "\n",
        "# find columns that are not float/int\n",
        "\n",
        "for column in df_v3.columns:\n",
        "\n",
        "    if df_v3[column].dtype==object:\n",
        "\n",
        "        print(column)\n",
        "\n",
        "# Only 'Geno_Code' is object type.\n",
        "\n",
        "\"\"\"\n",
        "Description: Data Analysis\n",
        "Made on 11-20-2022 12:26:58\n",
        "@author: sirsh\n",
        "\"\"\"\n",
        "\n",
        "'''\n",
        "Way to many variables to explore\n",
        "Use glmnet (CCD Algorithm) as mentioned in paper\n",
        "'''\n",
        "\n",
        "import glmnet_python\n",
        "\n",
        "from glmnet import glmnet\n",
        "\n",
        "df_x = df_v3.iloc[:,3:-2]\n",
        "\n",
        "df_y = df_v3[[\"DtoA\"]]\n",
        "\n",
        "\n",
        "\n",
        "print(df_x.head())\n",
        "print(df_y.head())\n",
        "\n",
        "print(df_x.shape)\n",
        "print(df_y.shape)\n",
        "\n",
        "\n",
        "\n",
        "fit = glmnet(x=df_x.to_numpy(),y=df_y.to_numpy(),alpha=0.2,nlambda=20)\n",
        "\n"
      ]
    },
    {
      "cell_type": "code",
      "source": [
        "glmnetPrint(fit)"
      ],
      "metadata": {
        "colab": {
          "base_uri": "https://localhost:8080/"
        },
        "id": "9pVQcMGmWB3q",
        "outputId": "a94421eb-5d37-4d48-c52b-71f58ffa0b72"
      },
      "execution_count": null,
      "outputs": [
        {
          "output_type": "stream",
          "name": "stdout",
          "text": [
            "\t df \t %dev \t lambdau\n",
            "\n",
            "0 \t 0.000000 \t 0.000000 \t 2.583968\n",
            "1 \t 15.000000 \t 0.009627 \t 2.027795\n",
            "2 \t 43.000000 \t 0.022575 \t 1.591332\n",
            "3 \t 68.000000 \t 0.038686 \t 1.248814\n",
            "4 \t 88.000000 \t 0.052673 \t 0.980019\n",
            "5 \t 117.000000 \t 0.064613 \t 0.769080\n",
            "6 \t 159.000000 \t 0.075861 \t 0.603543\n",
            "7 \t 183.000000 \t 0.086905 \t 0.473636\n",
            "8 \t 207.000000 \t 0.097392 \t 0.371691\n",
            "9 \t 243.000000 \t 0.108490 \t 0.291688\n",
            "10 \t 272.000000 \t 0.119054 \t 0.228905\n",
            "11 \t 337.000000 \t 0.132171 \t 0.179636\n",
            "12 \t 401.000000 \t 0.149474 \t 0.140971\n",
            "13 \t 484.000000 \t 0.169614 \t 0.110628\n",
            "14 \t 608.000000 \t 0.193815 \t 0.086817\n",
            "15 \t 799.000000 \t 0.224488 \t 0.068130\n",
            "16 \t 981.000000 \t 0.260331 \t 0.053466\n",
            "17 \t 1191.000000 \t 0.300360 \t 0.041958\n",
            "18 \t 1448.000000 \t 0.344511 \t 0.032927\n",
            "19 \t 1733.000000 \t 0.391500 \t 0.025840\n"
          ]
        }
      ]
    },
    {
      "cell_type": "code",
      "source": [
        "glmnetPlot(fit, xvar = 'lambda', label = True)"
      ],
      "metadata": {
        "colab": {
          "base_uri": "https://localhost:8080/",
          "height": 362
        },
        "id": "0JgRbJslizUO",
        "outputId": "5565560a-16cc-487a-a262-0396eaa70ef4"
      },
      "execution_count": null,
      "outputs": [
        {
          "output_type": "display_data",
          "data": {
            "text/plain": [
              "<Figure size 432x288 with 2 Axes>"
            ],
            "image/png": "[encoded data removed]"
          },
          "metadata": {
            "needs_background": "light"
          }
        },
        {
          "output_type": "execute_result",
          "data": {
            "text/plain": [
              "{'fig': <Figure size 432x288 with 2 Axes>,\n",
              " 'ax1': <matplotlib.axes._subplots.AxesSubplot at 0x7f6eae0b4310>,\n",
              " 'ax2': <matplotlib.axes._subplots.AxesSubplot at 0x7f6e72546b90>}"
            ]
          },
          "metadata": {},
          "execution_count": 130
        }
      ]
    },
    {
      "cell_type": "code",
      "source": [
        "glmnetPlot(fit, xvar = 'dev', label = True);"
      ],
      "metadata": {
        "colab": {
          "base_uri": "https://localhost:8080/",
          "height": 308
        },
        "id": "yOJt9DcjizWw",
        "outputId": "66816832-df7a-4bd7-c827-c1a52b986092"
      },
      "execution_count": null,
      "outputs": [
        {
          "output_type": "display_data",
          "data": {
            "text/plain": [
              "<Figure size 432x288 with 2 Axes>"
            ],
            "image/png": "[encoded data removed]"
          },
          "metadata": {
            "needs_background": "light"
          }
        }
      ]
    },
    {
      "cell_type": "code",
      "source": [
        "any(fit['lambdau'] == 0.5)"
      ],
      "metadata": {
        "colab": {
          "base_uri": "https://localhost:8080/"
        },
        "id": "BYuqSnFlizZn",
        "outputId": "881de814-4ccb-4462-8d5f-08e3a16cf5be"
      },
      "execution_count": null,
      "outputs": [
        {
          "output_type": "execute_result",
          "data": {
            "text/plain": [
              "False"
            ]
          },
          "metadata": {},
          "execution_count": 132
        }
      ]
    },
    {
      "cell_type": "code",
      "source": [
        "fit[\"df\"]"
      ],
      "metadata": {
        "colab": {
          "base_uri": "https://localhost:8080/"
        },
        "id": "dCHwKBjfWmfs",
        "outputId": "f2144fce-f9cb-416b-e456-babadee83921"
      },
      "execution_count": null,
      "outputs": [
        {
          "output_type": "execute_result",
          "data": {
            "text/plain": [
              "array([   0,   15,   43,   68,   88,  117,  159,  183,  207,  243,  272,\n",
              "        337,  401,  484,  608,  799,  981, 1191, 1448, 1733])"
            ]
          },
          "metadata": {},
          "execution_count": 133
        }
      ]
    },
    {
      "cell_type": "code",
      "source": [
        "cols =  fit[\"df\"]+3\n",
        "cols"
      ],
      "metadata": {
        "colab": {
          "base_uri": "https://localhost:8080/"
        },
        "id": "eAp453g1XZzH",
        "outputId": "1b589017-3514-423b-ddcd-054e3806f982"
      },
      "execution_count": null,
      "outputs": [
        {
          "output_type": "execute_result",
          "data": {
            "text/plain": [
              "array([   3,   18,   46,   71,   91,  120,  162,  186,  210,  246,  275,\n",
              "        340,  404,  487,  611,  802,  984, 1194, 1451, 1736])"
            ]
          },
          "metadata": {},
          "execution_count": 134
        }
      ]
    },
    {
      "cell_type": "code",
      "source": [
        "df_v3.iloc[:,cols]"
      ],
      "metadata": {
        "colab": {
          "base_uri": "https://localhost:8080/",
          "height": 424
        },
        "id": "FuE_phWlXAtW",
        "outputId": "ad689705-054e-4dbf-ec23-166e1d2f47b2"
      },
      "execution_count": null,
      "outputs": [
        {
          "output_type": "execute_result",
          "data": {
            "text/plain": [
              "       m1  m16       m44  m69  m89      m118  m160  m184  m208  m244  m273  \\\n",
              "0     1.0  1.0  0.000000  0.0  0.0  0.000000   0.0   0.0   0.0   0.0   0.0   \n",
              "1     2.0  2.0  2.000000  2.0  2.0  2.000000   2.0   2.0   0.0   0.0   0.0   \n",
              "2     0.0  0.0  0.000000  0.0  0.0  2.000000   2.0   2.0   1.0   1.0   0.0   \n",
              "3     0.0  0.0  0.000000  0.0  0.0  0.000000   0.0   0.0   2.0   2.0   2.0   \n",
              "4     2.0  2.0  0.000000  0.0  0.0  1.431652   2.0   2.0   2.0   2.0   2.0   \n",
              "...   ...  ...       ...  ...  ...       ...   ...   ...   ...   ...   ...   \n",
              "4489  0.0  0.0  0.000000  0.0  0.0  0.000000   0.0   0.0   0.0   0.0   0.0   \n",
              "4490  2.0  2.0  2.000000  2.0  2.0  2.000000   2.0   2.0   2.0   2.0   2.0   \n",
              "4491  1.0  1.0  2.000000  2.0  2.0  2.000000   2.0   2.0   2.0   2.0   0.0   \n",
              "4492  2.0  2.0  0.000000  0.0  0.0  2.000000   0.0   0.0   0.0   2.0   2.0   \n",
              "4493  0.0  0.0  0.965079  2.0  2.0  0.000000   0.0   0.0   0.0   1.0   1.0   \n",
              "\n",
              "          m338  m402  m485  m609  m800  m982  m1192  m1449  m1734  \n",
              "0     0.000000   0.0   0.0   0.0   0.0   0.0    0.0    2.0    1.0  \n",
              "1     0.000000   2.0   2.0   0.0   0.0   2.0    2.0    2.0    0.0  \n",
              "2     0.000000   2.0   0.0   0.0   0.0   2.0    0.0    0.0    0.0  \n",
              "3     1.983857   2.0   2.0   2.0   2.0   2.0    2.0    0.0    0.0  \n",
              "4     2.000000   2.0   2.0   2.0   0.0   2.0    0.0    2.0    2.0  \n",
              "...        ...   ...   ...   ...   ...   ...    ...    ...    ...  \n",
              "4489  2.000000   2.0   0.0   2.0   2.0   0.0    2.0    1.0    0.0  \n",
              "4490  2.000000   0.0   0.0   0.0   0.0   2.0    0.0    0.0    0.0  \n",
              "4491  1.000000   1.0   2.0   1.0   2.0   2.0    0.0    0.0    0.0  \n",
              "4492  2.000000   2.0   2.0   0.0   0.0   0.0    0.0    0.0    0.0  \n",
              "4493  2.000000   2.0   2.0   2.0   2.0   0.0    0.0    0.0    2.0  \n",
              "\n",
              "[4494 rows x 20 columns]"
            ],
            "text/html": [
              "\n",
              "  <div id=\"df-87104019-d3a8-46b6-a287-3652f1a0496e\">\n",
              "    <div class=\"colab-df-container\">\n",
              "      <div>\n",
              "<style scoped>\n",
              "    .dataframe tbody tr th:only-of-type {\n",
              "        vertical-align: middle;\n",
              "    }\n",
              "\n",
              "    .dataframe tbody tr th {\n",
              "        vertical-align: top;\n",
              "    }\n",
              "\n",
              "    .dataframe thead th {\n",
              "        text-align: right;\n",
              "    }\n",
              "</style>\n",
              "<table border=\"1\" class=\"dataframe\">\n",
              "  <thead>\n",
              "    <tr style=\"text-align: right;\">\n",
              "      <th></th>\n",
              "      <th>m1</th>\n",
              "      <th>m16</th>\n",
              "      <th>m44</th>\n",
              "      <th>m69</th>\n",
              "      <th>m89</th>\n",
              "      <th>m118</th>\n",
              "      <th>m160</th>\n",
              "      <th>m184</th>\n",
              "      <th>m208</th>\n",
              "      <th>m244</th>\n",
              "      <th>m273</th>\n",
              "      <th>m338</th>\n",
              "      <th>m402</th>\n",
              "      <th>m485</th>\n",
              "      <th>m609</th>\n",
              "      <th>m800</th>\n",
              "      <th>m982</th>\n",
              "      <th>m1192</th>\n",
              "      <th>m1449</th>\n",
              "      <th>m1734</th>\n",
              "    </tr>\n",
              "  </thead>\n",
              "  <tbody>\n",
              "    <tr>\n",
              "      <th>0</th>\n",
              "      <td>1.0</td>\n",
              "      <td>1.0</td>\n",
              "      <td>0.000000</td>\n",
              "      <td>0.0</td>\n",
              "      <td>0.0</td>\n",
              "      <td>0.000000</td>\n",
              "      <td>0.0</td>\n",
              "      <td>0.0</td>\n",
              "      <td>0.0</td>\n",
              "      <td>0.0</td>\n",
              "      <td>0.0</td>\n",
              "      <td>0.000000</td>\n",
              "      <td>0.0</td>\n",
              "      <td>0.0</td>\n",
              "      <td>0.0</td>\n",
              "      <td>0.0</td>\n",
              "      <td>0.0</td>\n",
              "      <td>0.0</td>\n",
              "      <td>2.0</td>\n",
              "      <td>1.0</td>\n",
              "    </tr>\n",
              "    <tr>\n",
              "      <th>1</th>\n",
              "      <td>2.0</td>\n",
              "      <td>2.0</td>\n",
              "      <td>2.000000</td>\n",
              "      <td>2.0</td>\n",
              "      <td>2.0</td>\n",
              "      <td>2.000000</td>\n",
              "      <td>2.0</td>\n",
              "      <td>2.0</td>\n",
              "      <td>0.0</td>\n",
              "      <td>0.0</td>\n",
              "      <td>0.0</td>\n",
              "      <td>0.000000</td>\n",
              "      <td>2.0</td>\n",
              "      <td>2.0</td>\n",
              "      <td>0.0</td>\n",
              "      <td>0.0</td>\n",
              "      <td>2.0</td>\n",
              "      <td>2.0</td>\n",
              "      <td>2.0</td>\n",
              "      <td>0.0</td>\n",
              "    </tr>\n",
              "    <tr>\n",
              "      <th>2</th>\n",
              "      <td>0.0</td>\n",
              "      <td>0.0</td>\n",
              "      <td>0.000000</td>\n",
              "      <td>0.0</td>\n",
              "      <td>0.0</td>\n",
              "      <td>2.000000</td>\n",
              "      <td>2.0</td>\n",
              "      <td>2.0</td>\n",
              "      <td>1.0</td>\n",
              "      <td>1.0</td>\n",
              "      <td>0.0</td>\n",
              "      <td>0.000000</td>\n",
              "      <td>2.0</td>\n",
              "      <td>0.0</td>\n",
              "      <td>0.0</td>\n",
              "      <td>0.0</td>\n",
              "      <td>2.0</td>\n",
              "      <td>0.0</td>\n",
              "      <td>0.0</td>\n",
              "      <td>0.0</td>\n",
              "    </tr>\n",
              "    <tr>\n",
              "      <th>3</th>\n",
              "      <td>0.0</td>\n",
              "      <td>0.0</td>\n",
              "      <td>0.000000</td>\n",
              "      <td>0.0</td>\n",
              "      <td>0.0</td>\n",
              "      <td>0.000000</td>\n",
              "      <td>0.0</td>\n",
              "      <td>0.0</td>\n",
              "      <td>2.0</td>\n",
              "      <td>2.0</td>\n",
              "      <td>2.0</td>\n",
              "      <td>1.983857</td>\n",
              "      <td>2.0</td>\n",
              "      <td>2.0</td>\n",
              "      <td>2.0</td>\n",
              "      <td>2.0</td>\n",
              "      <td>2.0</td>\n",
              "      <td>2.0</td>\n",
              "      <td>0.0</td>\n",
              "      <td>0.0</td>\n",
              "    </tr>\n",
              "    <tr>\n",
              "      <th>4</th>\n",
              "      <td>2.0</td>\n",
              "      <td>2.0</td>\n",
              "      <td>0.000000</td>\n",
              "      <td>0.0</td>\n",
              "      <td>0.0</td>\n",
              "      <td>1.431652</td>\n",
              "      <td>2.0</td>\n",
              "      <td>2.0</td>\n",
              "      <td>2.0</td>\n",
              "      <td>2.0</td>\n",
              "      <td>2.0</td>\n",
              "      <td>2.000000</td>\n",
              "      <td>2.0</td>\n",
              "      <td>2.0</td>\n",
              "      <td>2.0</td>\n",
              "      <td>0.0</td>\n",
              "      <td>2.0</td>\n",
              "      <td>0.0</td>\n",
              "      <td>2.0</td>\n",
              "      <td>2.0</td>\n",
              "    </tr>\n",
              "    <tr>\n",
              "      <th>...</th>\n",
              "      <td>...</td>\n",
              "      <td>...</td>\n",
              "      <td>...</td>\n",
              "      <td>...</td>\n",
              "      <td>...</td>\n",
              "      <td>...</td>\n",
              "      <td>...</td>\n",
              "      <td>...</td>\n",
              "      <td>...</td>\n",
              "      <td>...</td>\n",
              "      <td>...</td>\n",
              "      <td>...</td>\n",
              "      <td>...</td>\n",
              "      <td>...</td>\n",
              "      <td>...</td>\n",
              "      <td>...</td>\n",
              "      <td>...</td>\n",
              "      <td>...</td>\n",
              "      <td>...</td>\n",
              "      <td>...</td>\n",
              "    </tr>\n",
              "    <tr>\n",
              "      <th>4489</th>\n",
              "      <td>0.0</td>\n",
              "      <td>0.0</td>\n",
              "      <td>0.000000</td>\n",
              "      <td>0.0</td>\n",
              "      <td>0.0</td>\n",
              "      <td>0.000000</td>\n",
              "      <td>0.0</td>\n",
              "      <td>0.0</td>\n",
              "      <td>0.0</td>\n",
              "      <td>0.0</td>\n",
              "      <td>0.0</td>\n",
              "      <td>2.000000</td>\n",
              "      <td>2.0</td>\n",
              "      <td>0.0</td>\n",
              "      <td>2.0</td>\n",
              "      <td>2.0</td>\n",
              "      <td>0.0</td>\n",
              "      <td>2.0</td>\n",
              "      <td>1.0</td>\n",
              "      <td>0.0</td>\n",
              "    </tr>\n",
              "    <tr>\n",
              "      <th>4490</th>\n",
              "      <td>2.0</td>\n",
              "      <td>2.0</td>\n",
              "      <td>2.000000</td>\n",
              "      <td>2.0</td>\n",
              "      <td>2.0</td>\n",
              "      <td>2.000000</td>\n",
              "      <td>2.0</td>\n",
              "      <td>2.0</td>\n",
              "      <td>2.0</td>\n",
              "      <td>2.0</td>\n",
              "      <td>2.0</td>\n",
              "      <td>2.000000</td>\n",
              "      <td>0.0</td>\n",
              "      <td>0.0</td>\n",
              "      <td>0.0</td>\n",
              "      <td>0.0</td>\n",
              "      <td>2.0</td>\n",
              "      <td>0.0</td>\n",
              "      <td>0.0</td>\n",
              "      <td>0.0</td>\n",
              "    </tr>\n",
              "    <tr>\n",
              "      <th>4491</th>\n",
              "      <td>1.0</td>\n",
              "      <td>1.0</td>\n",
              "      <td>2.000000</td>\n",
              "      <td>2.0</td>\n",
              "      <td>2.0</td>\n",
              "      <td>2.000000</td>\n",
              "      <td>2.0</td>\n",
              "      <td>2.0</td>\n",
              "      <td>2.0</td>\n",
              "      <td>2.0</td>\n",
              "      <td>0.0</td>\n",
              "      <td>1.000000</td>\n",
              "      <td>1.0</td>\n",
              "      <td>2.0</td>\n",
              "      <td>1.0</td>\n",
              "      <td>2.0</td>\n",
              "      <td>2.0</td>\n",
              "      <td>0.0</td>\n",
              "      <td>0.0</td>\n",
              "      <td>0.0</td>\n",
              "    </tr>\n",
              "    <tr>\n",
              "      <th>4492</th>\n",
              "      <td>2.0</td>\n",
              "      <td>2.0</td>\n",
              "      <td>0.000000</td>\n",
              "      <td>0.0</td>\n",
              "      <td>0.0</td>\n",
              "      <td>2.000000</td>\n",
              "      <td>0.0</td>\n",
              "      <td>0.0</td>\n",
              "      <td>0.0</td>\n",
              "      <td>2.0</td>\n",
              "      <td>2.0</td>\n",
              "      <td>2.000000</td>\n",
              "      <td>2.0</td>\n",
              "      <td>2.0</td>\n",
              "      <td>0.0</td>\n",
              "      <td>0.0</td>\n",
              "      <td>0.0</td>\n",
              "      <td>0.0</td>\n",
              "      <td>0.0</td>\n",
              "      <td>0.0</td>\n",
              "    </tr>\n",
              "    <tr>\n",
              "      <th>4493</th>\n",
              "      <td>0.0</td>\n",
              "      <td>0.0</td>\n",
              "      <td>0.965079</td>\n",
              "      <td>2.0</td>\n",
              "      <td>2.0</td>\n",
              "      <td>0.000000</td>\n",
              "      <td>0.0</td>\n",
              "      <td>0.0</td>\n",
              "      <td>0.0</td>\n",
              "      <td>1.0</td>\n",
              "      <td>1.0</td>\n",
              "      <td>2.000000</td>\n",
              "      <td>2.0</td>\n",
              "      <td>2.0</td>\n",
              "      <td>2.0</td>\n",
              "      <td>2.0</td>\n",
              "      <td>0.0</td>\n",
              "      <td>0.0</td>\n",
              "      <td>0.0</td>\n",
              "      <td>2.0</td>\n",
              "    </tr>\n",
              "  </tbody>\n",
              "</table>\n",
              "<p>4494 rows × 20 columns</p>\n",
              "</div>\n",
              "      <button class=\"colab-df-convert\" onclick=\"convertToInteractive('df-87104019-d3a8-46b6-a287-3652f1a0496e')\"\n",
              "              title=\"Convert this dataframe to an interactive table.\"\n",
              "              style=\"display:none;\">\n",
              "        \n",
              "  <svg xmlns=\"http://www.w3.org/2000/svg\" height=\"24px\"viewBox=\"0 0 24 24\"\n",
              "       width=\"24px\">\n",
              "    <path d=\"M0 0h24v24H0V0z\" fill=\"none\"/>\n",
              "    <path d=\"M18.56 5.44l.94 2.06.94-2.06 2.06-.94-2.06-.94-.94-2.06-.94 2.06-2.06.94zm-11 1L8.5 8.5l.94-2.06 2.06-.94-2.06-.94L8.5 2.5l-.94 2.06-2.06.94zm10 10l.94 2.06.94-2.06 2.06-.94-2.06-.94-.94-2.06-.94 2.06-2.06.94z\"/><path d=\"M17.41 7.96l-1.37-1.37c-.4-.4-.92-.59-1.43-.59-.52 0-1.04.2-1.43.59L10.3 9.45l-7.72 7.72c-.78.78-.78 2.05 0 2.83L4 21.41c.39.39.9.59 1.41.59.51 0 1.02-.2 1.41-.59l7.78-7.78 2.81-2.81c.8-.78.8-2.07 0-2.86zM5.41 20L4 18.59l7.72-7.72 1.47 1.35L5.41 20z\"/>\n",
              "  </svg>\n",
              "      </button>\n",
              "      \n",
              "  <style>\n",
              "    .colab-df-container {\n",
              "      display:flex;\n",
              "      flex-wrap:wrap;\n",
              "      gap: 12px;\n",
              "    }\n",
              "\n",
              "    .colab-df-convert {\n",
              "      background-color: #E8F0FE;\n",
              "      border: none;\n",
              "      border-radius: 50%;\n",
              "      cursor: pointer;\n",
              "      display: none;\n",
              "      fill: #1967D2;\n",
              "      height: 32px;\n",
              "      padding: 0 0 0 0;\n",
              "      width: 32px;\n",
              "    }\n",
              "\n",
              "    .colab-df-convert:hover {\n",
              "      background-color: #E2EBFA;\n",
              "      box-shadow: 0px 1px 2px rgba(60, 64, 67, 0.3), 0px 1px 3px 1px rgba(60, 64, 67, 0.15);\n",
              "      fill: #174EA6;\n",
              "    }\n",
              "\n",
              "    [theme=dark] .colab-df-convert {\n",
              "      background-color: #3B4455;\n",
              "      fill: #D2E3FC;\n",
              "    }\n",
              "\n",
              "    [theme=dark] .colab-df-convert:hover {\n",
              "      background-color: #434B5C;\n",
              "      box-shadow: 0px 1px 3px 1px rgba(0, 0, 0, 0.15);\n",
              "      filter: drop-shadow(0px 1px 2px rgba(0, 0, 0, 0.3));\n",
              "      fill: #FFFFFF;\n",
              "    }\n",
              "  </style>\n",
              "\n",
              "      <script>\n",
              "        const buttonEl =\n",
              "          document.querySelector('#df-87104019-d3a8-46b6-a287-3652f1a0496e button.colab-df-convert');\n",
              "        buttonEl.style.display =\n",
              "          google.colab.kernel.accessAllowed ? 'block' : 'none';\n",
              "\n",
              "        async function convertToInteractive(key) {\n",
              "          const element = document.querySelector('#df-87104019-d3a8-46b6-a287-3652f1a0496e');\n",
              "          const dataTable =\n",
              "            await google.colab.kernel.invokeFunction('convertToInteractive',\n",
              "                                                     [key], {});\n",
              "          if (!dataTable) return;\n",
              "\n",
              "          const docLinkHtml = 'Like what you see? Visit the ' +\n",
              "            '<a target=\"_blank\" href=https://colab.research.google.com/notebooks/data_table.ipynb>data table notebook</a>'\n",
              "            + ' to learn more about interactive tables.';\n",
              "          element.innerHTML = '';\n",
              "          dataTable['output_type'] = 'display_data';\n",
              "          await google.colab.output.renderOutput(dataTable, element);\n",
              "          const docLink = document.createElement('div');\n",
              "          docLink.innerHTML = docLinkHtml;\n",
              "          element.appendChild(docLink);\n",
              "        }\n",
              "      </script>\n",
              "    </div>\n",
              "  </div>\n",
              "  "
            ]
          },
          "metadata": {},
          "execution_count": 135
        }
      ]
    },
    {
      "cell_type": "code",
      "source": [
        "data_20_var_x = df_v3.iloc[:,cols]\n",
        "data_20_var_y = df_v3[[\"DtoA\"]]"
      ],
      "metadata": {
        "id": "X_TEOSnCXKXV"
      },
      "execution_count": null,
      "outputs": []
    },
    {
      "cell_type": "code",
      "source": [],
      "metadata": {
        "id": "IGO7-fNdXxkO"
      },
      "execution_count": null,
      "outputs": []
    },
    {
      "cell_type": "code",
      "source": [
        "from sklearn.model_selection import train_test_split\n",
        "X_train,X_test,y_train,y_test=train_test_split(df_x,df_y,test_size=0.30 ,random_state=40)"
      ],
      "metadata": {
        "id": "oA1MTrfJX7dT"
      },
      "execution_count": null,
      "outputs": []
    },
    {
      "cell_type": "code",
      "source": [
        "lr = LinearRegression()\n",
        "lr.fit(X_train, y_train)"
      ],
      "metadata": {
        "colab": {
          "base_uri": "https://localhost:8080/"
        },
        "id": "v5_WXyiMuBkr",
        "outputId": "3ee6e2fc-3315-498b-e258-b8be3401048f"
      },
      "execution_count": null,
      "outputs": [
        {
          "output_type": "execute_result",
          "data": {
            "text/plain": [
              "LinearRegression()"
            ]
          },
          "metadata": {},
          "execution_count": 138
        }
      ]
    },
    {
      "cell_type": "code",
      "source": [
        "LinearRegression(copy_X=True, fit_intercept=True, n_jobs=1, normalize=False)"
      ],
      "metadata": {
        "colab": {
          "base_uri": "https://localhost:8080/"
        },
        "id": "upza8aM9uB8F",
        "outputId": "23767451-40a1-48db-d5ca-72b5fadd9c5a"
      },
      "execution_count": null,
      "outputs": [
        {
          "output_type": "execute_result",
          "data": {
            "text/plain": [
              "LinearRegression(n_jobs=1, normalize=False)"
            ]
          },
          "metadata": {},
          "execution_count": 139
        }
      ]
    },
    {
      "cell_type": "code",
      "source": [
        "pred_train_lr= lr.predict(X_train)\n",
        "print(np.sqrt(mean_squared_error(y_train,pred_train_lr)))\n",
        "print(r2_score(y_train, pred_train_lr))\n",
        "\n",
        "pred_test_lr= lr.predict(X_test)\n",
        "print(np.sqrt(mean_squared_error(y_test,pred_test_lr))) \n",
        "print(r2_score(y_test, pred_test_lr))"
      ],
      "metadata": {
        "colab": {
          "base_uri": "https://localhost:8080/"
        },
        "id": "rdZDrsOouB-8",
        "outputId": "8a6c63c3-623f-4a01-bf4a-3fa3f51c1546"
      },
      "execution_count": null,
      "outputs": [
        {
          "output_type": "stream",
          "name": "stdout",
          "text": [
            "5.559212736605968e-14\n",
            "1.0\n",
            "6.639498082043972\n",
            "-2.328132689229228\n"
          ]
        }
      ]
    },
    {
      "cell_type": "code",
      "source": [
        "# import matplotlib.pyplot as plot\n",
        "# plot.figure(figsize=(15,10))\n",
        "# plot.scatter(y_test,y_pred)\n",
        "# plot.xlabel('Actual')\n",
        "# plot.ylabel('Predicted')\n",
        "# plot.title('Actual vs. Predicted')"
      ],
      "metadata": {
        "colab": {
          "base_uri": "https://localhost:8080/",
          "height": 639
        },
        "id": "wN7HzQ1Kwvtt",
        "outputId": "ef6cee6d-407a-4dfe-dd1d-2169303d40b8"
      },
      "execution_count": null,
      "outputs": [
        {
          "output_type": "execute_result",
          "data": {
            "text/plain": [
              "Text(0.5, 1.0, 'Actual vs. Predicted')"
            ]
          },
          "metadata": {},
          "execution_count": 141
        },
        {
          "output_type": "display_data",
          "data": {
            "text/plain": [
              "<Figure size 1080x720 with 1 Axes>"
            ],
            "image/png": "[encoded data removed]"
          },
          "metadata": {
            "needs_background": "light"
          }
        }
      ]
    },
    {
      "cell_type": "markdown",
      "source": [
        "\n",
        "## Ridge Regression\n",
        "\n",
        "\n"
      ],
      "metadata": {
        "id": "XQ3QYyeZuzvB"
      }
    },
    {
      "cell_type": "code",
      "source": [
        "rr = Ridge(alpha=0.01)\n",
        "rr.fit(X_train, y_train) \n",
        "pred_train_rr= rr.predict(X_train)\n",
        "print(np.sqrt(mean_squared_error(y_train,pred_train_rr)))\n",
        "print(r2_score(y_train, pred_train_rr))\n",
        "\n",
        "pred_test_rr= rr.predict(X_test)\n",
        "print(np.sqrt(mean_squared_error(y_test,pred_test_rr))) \n",
        "print(r2_score(y_test, pred_test_rr))"
      ],
      "metadata": {
        "colab": {
          "base_uri": "https://localhost:8080/",
          "height": 240
        },
        "id": "5AKp5z2suCDp",
        "outputId": "dbecf60d-410e-4437-c81c-b4f69b9c37bc"
      },
      "execution_count": 1,
      "outputs": [
        {
          "output_type": "error",
          "ename": "NameError",
          "evalue": "ignored",
          "traceback": [
            "\u001b[0;31m---------------------------------------------------------------------------\u001b[0m",
            "\u001b[0;31mNameError\u001b[0m                                 Traceback (most recent call last)",
            "\u001b[0;32m<ipython-input-1-4518f6ab8d5e>\u001b[0m in \u001b[0;36m<module>\u001b[0;34m\u001b[0m\n\u001b[0;32m----> 1\u001b[0;31m \u001b[0mrr\u001b[0m \u001b[0;34m=\u001b[0m \u001b[0mRidge\u001b[0m\u001b[0;34m(\u001b[0m\u001b[0malpha\u001b[0m\u001b[0;34m=\u001b[0m\u001b[0;36m0.01\u001b[0m\u001b[0;34m)\u001b[0m\u001b[0;34m\u001b[0m\u001b[0;34m\u001b[0m\u001b[0m\n\u001b[0m\u001b[1;32m      2\u001b[0m \u001b[0mrr\u001b[0m\u001b[0;34m.\u001b[0m\u001b[0mfit\u001b[0m\u001b[0;34m(\u001b[0m\u001b[0mX_train\u001b[0m\u001b[0;34m,\u001b[0m \u001b[0my_train\u001b[0m\u001b[0;34m)\u001b[0m\u001b[0;34m\u001b[0m\u001b[0;34m\u001b[0m\u001b[0m\n\u001b[1;32m      3\u001b[0m \u001b[0mpred_train_rr\u001b[0m\u001b[0;34m=\u001b[0m \u001b[0mrr\u001b[0m\u001b[0;34m.\u001b[0m\u001b[0mpredict\u001b[0m\u001b[0;34m(\u001b[0m\u001b[0mX_train\u001b[0m\u001b[0;34m)\u001b[0m\u001b[0;34m\u001b[0m\u001b[0;34m\u001b[0m\u001b[0m\n\u001b[1;32m      4\u001b[0m \u001b[0mprint\u001b[0m\u001b[0;34m(\u001b[0m\u001b[0mnp\u001b[0m\u001b[0;34m.\u001b[0m\u001b[0msqrt\u001b[0m\u001b[0;34m(\u001b[0m\u001b[0mmean_squared_error\u001b[0m\u001b[0;34m(\u001b[0m\u001b[0my_train\u001b[0m\u001b[0;34m,\u001b[0m\u001b[0mpred_train_rr\u001b[0m\u001b[0;34m)\u001b[0m\u001b[0;34m)\u001b[0m\u001b[0;34m)\u001b[0m\u001b[0;34m\u001b[0m\u001b[0;34m\u001b[0m\u001b[0m\n\u001b[1;32m      5\u001b[0m \u001b[0mprint\u001b[0m\u001b[0;34m(\u001b[0m\u001b[0mr2_score\u001b[0m\u001b[0;34m(\u001b[0m\u001b[0my_train\u001b[0m\u001b[0;34m,\u001b[0m \u001b[0mpred_train_rr\u001b[0m\u001b[0;34m)\u001b[0m\u001b[0;34m)\u001b[0m\u001b[0;34m\u001b[0m\u001b[0;34m\u001b[0m\u001b[0m\n",
            "\u001b[0;31mNameError\u001b[0m: name 'Ridge' is not defined"
          ]
        }
      ]
    },
    {
      "cell_type": "code",
      "source": [
        "# import matplotlib.pyplot as plot\n",
        "# plot.figure(figsize=(15,10))\n",
        "# plot.scatter(y_test,y_pred)\n",
        "# plot.xlabel('Actual')\n",
        "# plot.ylabel('Predicted')\n",
        "# plot.title('Actual vs. Predicted')"
      ],
      "metadata": {
        "id": "13znRJonws8-"
      },
      "execution_count": null,
      "outputs": []
    },
    {
      "cell_type": "markdown",
      "source": [
        "## Lasso Regression\n"
      ],
      "metadata": {
        "id": "dggbO4yfvqiD"
      }
    },
    {
      "cell_type": "code",
      "source": [
        "model_lasso = Lasso(alpha=0.01)\n",
        "model_lasso.fit(X_train, y_train) \n",
        "pred_train_lasso= model_lasso.predict(X_train)\n",
        "print(np.sqrt(mean_squared_error(y_train,pred_train_lasso)))\n",
        "print(r2_score(y_train, pred_train_lasso))\n",
        "\n",
        "pred_test_lasso= model_lasso.predict(X_test)\n",
        "print(np.sqrt(mean_squared_error(y_test,pred_test_lasso))) \n",
        "print(r2_score(y_test, pred_test_lasso))"
      ],
      "metadata": {
        "colab": {
          "base_uri": "https://localhost:8080/"
        },
        "id": "sXMnKBaguCIk",
        "outputId": "e71f487b-2cdb-434a-9d9a-434530b2f9e8"
      },
      "execution_count": null,
      "outputs": [
        {
          "output_type": "stream",
          "name": "stdout",
          "text": [
            "3.6867345354108756\n",
            "0.0\n",
            "3.6405094432862475\n",
            "-0.000586080853545834\n"
          ]
        }
      ]
    },
    {
      "cell_type": "code",
      "source": [
        "# import matplotlib.pyplot as plot\n",
        "# plot.figure(figsize=(15,10))\n",
        "# plot.scatter(y_test,y_pred)\n",
        "# plot.xlabel('Actual')\n",
        "# plot.ylabel('Predicted')\n",
        "# plot.title('Actual vs. Predicted')"
      ],
      "metadata": {
        "colab": {
          "base_uri": "https://localhost:8080/",
          "height": 639
        },
        "id": "zI4QM2yPwmSy",
        "outputId": "bf599e3e-35c0-4dba-c5bd-669ad61f1261"
      },
      "execution_count": null,
      "outputs": [
        {
          "output_type": "execute_result",
          "data": {
            "text/plain": [
              "Text(0.5, 1.0, 'Actual vs. Predicted')"
            ]
          },
          "metadata": {},
          "execution_count": 145
        },
        {
          "output_type": "display_data",
          "data": {
            "text/plain": [
              "<Figure size 1080x720 with 1 Axes>"
            ],
            "image/png": "[encoded data removed]"
          },
          "metadata": {
            "needs_background": "light"
          }
        }
      ]
    },
    {
      "cell_type": "markdown",
      "source": [
        "## ElasticNet Regression"
      ],
      "metadata": {
        "id": "FFpFnk3xv-C-"
      }
    },
    {
      "cell_type": "code",
      "source": [
        "#Elastic Net\n",
        "model_enet = ElasticNet(alpha = 0.01)\n",
        "model_enet.fit(X_train, y_train) \n",
        "pred_train_enet= model_enet.predict(X_train)\n",
        "print(np.sqrt(mean_squared_error(y_train,pred_train_enet)))\n",
        "print(r2_score(y_train, pred_train_enet))\n",
        "\n",
        "pred_test_enet= model_enet.predict(X_test)\n",
        "print(np.sqrt(mean_squared_error(y_test,pred_test_enet)))\n",
        "print(r2_score(y_test, pred_test_enet))"
      ],
      "metadata": {
        "colab": {
          "base_uri": "https://localhost:8080/"
        },
        "id": "a3rh-hhZuCNh",
        "outputId": "c19e0404-feba-4b3d-cabc-dfe6e4f877c3"
      },
      "execution_count": null,
      "outputs": [
        {
          "output_type": "stream",
          "name": "stdout",
          "text": [
            "3.6632221326547567\n",
            "0.012714464005549875\n",
            "3.621121624213598\n",
            "0.010042940315004745\n"
          ]
        }
      ]
    },
    {
      "cell_type": "code",
      "source": [
        "from sklearn.linear_model import ElasticNet\n",
        "enet = ElasticNet(alpha=1.0,l1_ratio=0.5)"
      ],
      "metadata": {
        "id": "hTie2bLmNkaq"
      },
      "execution_count": null,
      "outputs": []
    },
    {
      "cell_type": "code",
      "source": [
        "enet.fit(X_train,y_train)"
      ],
      "metadata": {
        "colab": {
          "base_uri": "https://localhost:8080/"
        },
        "id": "_pz3TaoUNkic",
        "outputId": "09c3905b-5c64-4faf-99a5-a8508f66f939"
      },
      "execution_count": null,
      "outputs": [
        {
          "output_type": "execute_result",
          "data": {
            "text/plain": [
              "ElasticNet()"
            ]
          },
          "metadata": {},
          "execution_count": 148
        }
      ]
    },
    {
      "cell_type": "code",
      "source": [
        "y_pred= enet.predict(X_test)"
      ],
      "metadata": {
        "id": "cXUp4PWuNkue"
      },
      "execution_count": null,
      "outputs": []
    },
    {
      "cell_type": "code",
      "source": [
        "print(y_pred)"
      ],
      "metadata": {
        "colab": {
          "base_uri": "https://localhost:8080/"
        },
        "id": "ftLyluDuPrNX",
        "outputId": "a66df0b0-3c14-4f16-cbe7-8c4f6cf39f64"
      },
      "execution_count": null,
      "outputs": [
        {
          "output_type": "stream",
          "name": "stdout",
          "text": [
            "[77.17889959 77.17889959 77.17889959 ... 77.17889959 77.17889959\n",
            " 77.17889959]\n"
          ]
        }
      ]
    },
    {
      "cell_type": "code",
      "source": [
        "#print(\"Slope: %.2f\" % enet.coef_[0])"
      ],
      "metadata": {
        "id": "Vc2s8il5kpwc"
      },
      "execution_count": null,
      "outputs": []
    },
    {
      "cell_type": "code",
      "source": [
        "#print(\"Intercept: %.2f\", % enet.intercept_)"
      ],
      "metadata": {
        "id": "B2CQgFWqkpzY"
      },
      "execution_count": null,
      "outputs": []
    },
    {
      "cell_type": "code",
      "source": [
        "from sklearn.metrics import mean_squared_error\n",
        "mean_squared_error(y_test,y_pred)"
      ],
      "metadata": {
        "colab": {
          "base_uri": "https://localhost:8080/"
        },
        "id": "iymIYHIOkp2R",
        "outputId": "c11ff0e3-e3d0-422a-f416-be08517f281c"
      },
      "execution_count": null,
      "outputs": [
        {
          "output_type": "execute_result",
          "data": {
            "text/plain": [
              "13.253309006656343"
            ]
          },
          "metadata": {},
          "execution_count": 153
        }
      ]
    },
    {
      "cell_type": "code",
      "source": [
        "from scipy.sparse.linalg.isolve.minres import sqrt\n",
        "rmse=np.sqrt(mean_squared_error(y_test,y_pred))\n",
        "print(\"RMSE : % f\" %(rmse))"
      ],
      "metadata": {
        "colab": {
          "base_uri": "https://localhost:8080/"
        },
        "id": "E0Xulv1NmWJY",
        "outputId": "ee1d6cbf-6a30-43e0-f390-2f3eec36c5e7"
      },
      "execution_count": null,
      "outputs": [
        {
          "output_type": "stream",
          "name": "stdout",
          "text": [
            "RMSE :  3.640509\n"
          ]
        }
      ]
    },
    {
      "cell_type": "code",
      "source": [
        "r2_score(y_test,y_pred)"
      ],
      "metadata": {
        "colab": {
          "base_uri": "https://localhost:8080/"
        },
        "id": "7Yglm1edp54N",
        "outputId": "8041a40a-03b4-4203-f17e-b7d61e9889b1"
      },
      "execution_count": null,
      "outputs": [
        {
          "output_type": "execute_result",
          "data": {
            "text/plain": [
              "-0.000586080853545834"
            ]
          },
          "metadata": {},
          "execution_count": 155
        }
      ]
    },
    {
      "cell_type": "code",
      "source": [
        "import matplotlib.pyplot as plot\n",
        "plot.figure(figsize=(15,10))\n",
        "plot.scatter(y_test,y_pred)\n",
        "plot.xlabel('Actual')\n",
        "plot.ylabel('Predicted')\n",
        "plot.title('Actual vs. Predicted')"
      ],
      "metadata": {
        "colab": {
          "base_uri": "https://localhost:8080/",
          "height": 639
        },
        "id": "vU75vYJIpb2Q",
        "outputId": "2045bd71-1264-48ca-bd3b-35210ec23c4c"
      },
      "execution_count": null,
      "outputs": [
        {
          "output_type": "execute_result",
          "data": {
            "text/plain": [
              "Text(0.5, 1.0, 'Actual vs. Predicted')"
            ]
          },
          "metadata": {},
          "execution_count": 156
        },
        {
          "output_type": "display_data",
          "data": {
            "text/plain": [
              "<Figure size 1080x720 with 1 Axes>"
            ],
            "image/png": "[encoded data removed]"
          },
          "metadata": {
            "needs_background": "light"
          }
        }
      ]
    },
    {
      "cell_type": "code",
      "source": [],
      "metadata": {
        "id": "5ziYrCFvpglZ"
      },
      "execution_count": null,
      "outputs": []
    }
  ]
}